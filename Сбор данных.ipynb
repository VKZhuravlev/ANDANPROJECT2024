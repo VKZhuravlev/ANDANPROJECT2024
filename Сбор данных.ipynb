{
  "nbformat": 4,
  "nbformat_minor": 0,
  "metadata": {
    "colab": {
      "provenance": []
    },
    "kernelspec": {
      "name": "python3",
      "display_name": "Python 3"
    },
    "language_info": {
      "name": "python"
    }
  },
  "cells": [
    {
      "cell_type": "markdown",
      "source": [
        "# Сбор данных"
      ],
      "metadata": {
        "id": "0BHsV3zNzpxU"
      }
    },
    {
      "cell_type": "markdown",
      "source": [
        "Начнём первый этап - полезем за данными. Для этого мы взяли сайт Дром."
      ],
      "metadata": {
        "id": "LB546zvNz86f"
      }
    },
    {
      "cell_type": "code",
      "execution_count": 1,
      "metadata": {
        "id": "YzTp_Z6pxZ3e"
      },
      "outputs": [],
      "source": [
        "import requests\n",
        "from bs4 import BeautifulSoup"
      ]
    },
    {
      "cell_type": "code",
      "source": [
        "def get_bikes(url):\n",
        "    res = requests.get(url)\n",
        "    tree = BeautifulSoup(res.content, 'html.parser')\n",
        "    return tree"
      ],
      "metadata": {
        "id": "yCRMTkMBxmWY"
      },
      "execution_count": 2,
      "outputs": []
    },
    {
      "cell_type": "code",
      "source": [
        "data = []"
      ],
      "metadata": {
        "id": "SUdmrpVOxnxp"
      },
      "execution_count": 3,
      "outputs": []
    },
    {
      "cell_type": "code",
      "source": [
        "for p in range(1, 50):\n",
        "  url = f\"https://moto.drom.ru/sale/?page={p}\"\n",
        "  tree = get_bikes(url)\n",
        "  bikes_cards = tree.find_all('tr', class_='bull-list-item-js -exact')\n",
        "  for j in range(len(bikes_cards)):\n",
        "    title_name = bikes_cards[j].find('a', class_='bulletinLink bull-item__self-link auto-shy')\n",
        "    price_bike = bikes_cards[j].find('div', class_='price-block__final-price finalPrice')\n",
        "    tech = bikes_cards[j].find('div', class_='bull-item__annotation-row')\n",
        "    city = bikes_cards[j].find('div', class_='bull-delivery bull-delivery_city')\n",
        "\n",
        "    if title_name:\n",
        "      if price_bike:\n",
        "        if tech:\n",
        "          if city:\n",
        "            data.append([title_name.text.strip(), price_bike.get_text(), tech.text, city.text])"
      ],
      "metadata": {
        "id": "4QnOrPyVxoqy"
      },
      "execution_count": 4,
      "outputs": []
    },
    {
      "cell_type": "code",
      "source": [
        "len(data)"
      ],
      "metadata": {
        "colab": {
          "base_uri": "https://localhost:8080/"
        },
        "id": "b6CSOYY8xrMf",
        "outputId": "7bbe9def-b50b-4700-c851-fabfed0c28be"
      },
      "execution_count": 5,
      "outputs": [
        {
          "output_type": "execute_result",
          "data": {
            "text/plain": [
              "1085"
            ]
          },
          "metadata": {},
          "execution_count": 5
        }
      ]
    },
    {
      "cell_type": "markdown",
      "source": [
        "После парсинга имеем массив в 1085 байков. Теперь запишем полученные данные в csv файл, чтобы можно было с ними работать."
      ],
      "metadata": {
        "id": "WwYTfBL-0Hu6"
      }
    },
    {
      "cell_type": "code",
      "source": [
        "import csv"
      ],
      "metadata": {
        "id": "TcqcIc-ixthb"
      },
      "execution_count": 6,
      "outputs": []
    },
    {
      "cell_type": "code",
      "source": [
        "with open('/content/drive/MyDrive/ProjectA/data_for_bikes.csv', 'w', encoding=\"utf-8\") as csvfile: #код для записи в csv\n",
        "    csvwriter = csv.writer(csvfile)\n",
        "    for row in data:\n",
        "        csvwriter.writerow(row)"
      ],
      "metadata": {
        "id": "-3wqvl0xxvrp"
      },
      "execution_count": 7,
      "outputs": []
    },
    {
      "cell_type": "markdown",
      "source": [
        "Код писался в колабе, поэтому csv файл создавался на гугл диске. Приклеплю его на гитхабе отдельно."
      ],
      "metadata": {
        "id": "ssOlI4iQ0Xkz"
      }
    }
  ]
}