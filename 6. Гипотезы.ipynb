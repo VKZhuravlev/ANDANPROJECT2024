{
 "cells": [
  {
   "cell_type": "code",
   "execution_count": 54,
   "id": "41c1f93c",
   "metadata": {},
   "outputs": [],
   "source": [
    "import pandas as pd\n",
    "import numpy as np\n",
    "from scipy import stats"
   ]
  },
  {
   "cell_type": "code",
   "execution_count": 34,
   "id": "f973233e",
   "metadata": {},
   "outputs": [
    {
     "data": {
      "text/html": [
       "<div>\n",
       "<style scoped>\n",
       "    .dataframe tbody tr th:only-of-type {\n",
       "        vertical-align: middle;\n",
       "    }\n",
       "\n",
       "    .dataframe tbody tr th {\n",
       "        vertical-align: top;\n",
       "    }\n",
       "\n",
       "    .dataframe thead th {\n",
       "        text-align: right;\n",
       "    }\n",
       "</style>\n",
       "<table border=\"1\" class=\"dataframe\">\n",
       "  <thead>\n",
       "    <tr style=\"text-align: right;\">\n",
       "      <th></th>\n",
       "      <th>Марка</th>\n",
       "      <th>Модель</th>\n",
       "      <th>Год</th>\n",
       "      <th>Город</th>\n",
       "      <th>Пробег(км)</th>\n",
       "      <th>Объем двигателя (см³)</th>\n",
       "      <th>Мощность двигателя (л.с.)</th>\n",
       "      <th>Цилиндров</th>\n",
       "      <th>Коробка</th>\n",
       "      <th>Привод</th>\n",
       "      <th>Цвет</th>\n",
       "      <th>Цена(руб)</th>\n",
       "      <th>Форма двигателя</th>\n",
       "    </tr>\n",
       "  </thead>\n",
       "  <tbody>\n",
       "    <tr>\n",
       "      <th>0</th>\n",
       "      <td>ABM</td>\n",
       "      <td>ABM Jazz 125</td>\n",
       "      <td>2015</td>\n",
       "      <td>Вязьма</td>\n",
       "      <td>7400</td>\n",
       "      <td>125</td>\n",
       "      <td>11.0</td>\n",
       "      <td>1.0</td>\n",
       "      <td>МКПП-4</td>\n",
       "      <td>цепь</td>\n",
       "      <td>чёрный</td>\n",
       "      <td>36000</td>\n",
       "      <td>рядное</td>\n",
       "    </tr>\n",
       "    <tr>\n",
       "      <th>1</th>\n",
       "      <td>ABM</td>\n",
       "      <td>ABM ZR 200</td>\n",
       "      <td>2013</td>\n",
       "      <td>Егорьевск</td>\n",
       "      <td>15000</td>\n",
       "      <td>200</td>\n",
       "      <td>19.0</td>\n",
       "      <td>1.0</td>\n",
       "      <td>МКПП-5</td>\n",
       "      <td>цепь</td>\n",
       "      <td>чёрный</td>\n",
       "      <td>63000</td>\n",
       "      <td>v-образное</td>\n",
       "    </tr>\n",
       "    <tr>\n",
       "      <th>2</th>\n",
       "      <td>ABM</td>\n",
       "      <td>ABM ZR 200</td>\n",
       "      <td>2014</td>\n",
       "      <td>Сиверский</td>\n",
       "      <td>1500</td>\n",
       "      <td>200</td>\n",
       "      <td>15.0</td>\n",
       "      <td>1.0</td>\n",
       "      <td>МКПП-5</td>\n",
       "      <td>цепь</td>\n",
       "      <td>зелёный</td>\n",
       "      <td>90000</td>\n",
       "      <td>v-образное</td>\n",
       "    </tr>\n",
       "    <tr>\n",
       "      <th>3</th>\n",
       "      <td>ABM</td>\n",
       "      <td>ABM Alpha 110</td>\n",
       "      <td>2023</td>\n",
       "      <td>Татарская Каргала</td>\n",
       "      <td>700</td>\n",
       "      <td>110</td>\n",
       "      <td>9.0</td>\n",
       "      <td>1.0</td>\n",
       "      <td>МКПП-4</td>\n",
       "      <td>цепь</td>\n",
       "      <td>чёрный</td>\n",
       "      <td>62000</td>\n",
       "      <td>рядное</td>\n",
       "    </tr>\n",
       "    <tr>\n",
       "      <th>4</th>\n",
       "      <td>ABM</td>\n",
       "      <td>ABM Alpha 110</td>\n",
       "      <td>2023</td>\n",
       "      <td>Фрязино</td>\n",
       "      <td>500</td>\n",
       "      <td>110</td>\n",
       "      <td>7.0</td>\n",
       "      <td>1.0</td>\n",
       "      <td>МКПП-4</td>\n",
       "      <td>цепь</td>\n",
       "      <td>чёрный</td>\n",
       "      <td>75000</td>\n",
       "      <td>рядное</td>\n",
       "    </tr>\n",
       "  </tbody>\n",
       "</table>\n",
       "</div>"
      ],
      "text/plain": [
       "  Марка         Модель   Год              Город  Пробег(км)  \\\n",
       "0   ABM   ABM Jazz 125  2015             Вязьма        7400   \n",
       "1   ABM     ABM ZR 200  2013          Егорьевск       15000   \n",
       "2   ABM     ABM ZR 200  2014          Сиверский        1500   \n",
       "3   ABM  ABM Alpha 110  2023  Татарская Каргала         700   \n",
       "4   ABM  ABM Alpha 110  2023            Фрязино         500   \n",
       "\n",
       "   Объем двигателя (см³)  Мощность двигателя (л.с.)  Цилиндров Коробка Привод  \\\n",
       "0                    125                       11.0        1.0  МКПП-4   цепь   \n",
       "1                    200                       19.0        1.0  МКПП-5   цепь   \n",
       "2                    200                       15.0        1.0  МКПП-5   цепь   \n",
       "3                    110                        9.0        1.0  МКПП-4   цепь   \n",
       "4                    110                        7.0        1.0  МКПП-4   цепь   \n",
       "\n",
       "      Цвет  Цена(руб) Форма двигателя  \n",
       "0   чёрный      36000          рядное  \n",
       "1   чёрный      63000      v-образное  \n",
       "2  зелёный      90000      v-образное  \n",
       "3   чёрный      62000          рядное  \n",
       "4   чёрный      75000          рядное  "
      ]
     },
     "execution_count": 34,
     "metadata": {},
     "output_type": "execute_result"
    }
   ],
   "source": [
    "df = pd.read_csv('Data')\n",
    "df.drop(['Unnamed: 0'], axis = 1, inplace = True)\n",
    "df.head()"
   ]
  },
  {
   "cell_type": "markdown",
   "id": "2e8752c9",
   "metadata": {},
   "source": [
    "***Гипотеза 1:***   \\\n",
    "H0 Механика надежнее других коробок передач на 20% (уровень значимости установим в 5%)\\\n",
    "Для того, чтобы проверить гипотезу, нам необходимо понять, что мы будет сравнивать. Так как информации о поломках у нас нет, а из всех данных только пробег и год могут говорить о времени эксплуатации/износе автомобиля, будем опираться на эти показатели в предположении, что все представленные мотоциклы на текущий момент исправны. Также заметим, что механика была внедрена в технику намного раньше, поэтому год в данном случае не несет большой ценности. Итого, мы будем проверять гипотезу о том, что средний пробег на механике выше, чем средний пробег на других коробках передачи:\\\n",
    "$X$ - средний пробег на механике, $Y$ - средний пробег на других коробках передач\\\n",
    "Тогда $H_{0}: \\mu_{X} = 1.2 \\mu_{Y},\\\\\n",
    "H_{1}: \\mu_{X} \\not= 1.2 \\mu_{Y}\\$\n",
    "\n",
    "$$\n",
    "z_{obs} = \\frac{\\bar X - 1.2\\bar Y}{\\sqrt{\\frac{s_x^2}{n_x} + \\frac{1.44s_y^2}{n_y}}};\n",
    "$$"
   ]
  },
  {
   "cell_type": "code",
   "execution_count": 85,
   "id": "ce29f00b",
   "metadata": {},
   "outputs": [],
   "source": [
    "def Mech_Tr(line):\n",
    "    \"\"\"Функция определяет, является ли коробка передач механической\"\"\"\n",
    "    if 'МКПП' in line:\n",
    "        return(True)\n",
    "    else:\n",
    "        return(False)"
   ]
  },
  {
   "cell_type": "code",
   "execution_count": 87,
   "id": "9dded3e1",
   "metadata": {},
   "outputs": [],
   "source": [
    "mask = df['Коробка'].apply(Mech_Tr) # Маска для отбора строк с механической коробкой передач\n",
    "\n",
    "mech = df[mask]['Пробег(км)'] # Пробег на механике\n",
    "other = df[~mask]['Пробег(км)'] # Пробег на других коробках передач\n",
    "\n",
    "mu_x = mech.mean() \n",
    "var_x = mech.var() # Необходимые данные для механики\n",
    "n_x = len(mech)\n",
    "\n",
    "mu_y = other.mean()\n",
    "var_y = other.var() # Необходимые данные для других коробок передач\n",
    "n_y = len(other)"
   ]
  },
  {
   "cell_type": "code",
   "execution_count": 84,
   "id": "7ec2854a",
   "metadata": {},
   "outputs": [
    {
     "name": "stdout",
     "output_type": "stream",
     "text": [
      "1.07 попадает в (-1.96 , 1.96) => Нулевая гипотеза НЕ отвергается\n"
     ]
    }
   ],
   "source": [
    "alpha = 0.05 # Уровень значимости\n",
    "k = 1.2 # Коэффициент, показывающий надежность механики относительго других коробок передач\n",
    "\n",
    "z_obs = (mu_x - k*mu_y)/np.sqrt(var_x/n_x + k**2*var_y/n_y)\n",
    "z_crit = stats.norm.ppf(1 - alpha/2)\n",
    "\n",
    "print(f'{z_obs:.3} попадает в ({-z_crit:.3} , {z_crit:.3}) => Нулевая гипотеза НЕ отвергается')"
   ]
  },
  {
   "cell_type": "markdown",
   "id": "325610b9",
   "metadata": {},
   "source": [
    "***Гипотеза 2:***   \\\n",
    "H0: Мотоциклы, произведенные с 2018, мощнее на 10% по сравнению с мотоциклами, выпущенными до 2003 (Уровень значимости 1%)\n",
    "\n",
    "Показателем мощности в нашем случае будет мощность двигателя:\\\n",
    "$X$ - мощность мотоциклов, выпущенных с 2018, $Y$ - мощность мотоциклов, выпущенных до 2003\\\n",
    "Тогда $H_{0}: \\mu_{X} = 1.1 \\mu_{Y},\\\\\n",
    "H_{1}: \\mu_{X} \\not= 1.1 \\mu_{Y}\\$\n",
    "\n",
    "$$\n",
    "z_{obs} = \\frac{\\bar X - 1.1\\bar Y}{\\sqrt{\\frac{s_x^2}{n_x} + \\frac{1.21s_y^2}{n_y}}};\n",
    "$$"
   ]
  },
  {
   "cell_type": "code",
   "execution_count": 144,
   "id": "4e80605f",
   "metadata": {},
   "outputs": [],
   "source": [
    "modern = df[df['Год'] >= 2018]['Мощность двигателя (л.с.)'] # Мощность современных мотоциклов\n",
    "dated = df[df['Год'] < 2003]['Мощность двигателя (л.с.)'] # Мощность более старых мотоциклов\n",
    "\n",
    "mu_x = modern.mean() \n",
    "var_x = modern.var() # Необходимые данные для механики\n",
    "n_x = len(modern)\n",
    "\n",
    "mu_y = dated.mean()\n",
    "var_y = dated.var() # Необходимые данные для других коробок передач\n",
    "n_y = len(dated)"
   ]
  },
  {
   "cell_type": "code",
   "execution_count": 145,
   "id": "f775957b",
   "metadata": {},
   "outputs": [
    {
     "name": "stdout",
     "output_type": "stream",
     "text": [
      "2.07 попадает в (-2.58 , 2.58) => Нулевая гипотеза НЕ отвергается\n"
     ]
    }
   ],
   "source": [
    "alpha = 0.01 # Уровень значимости\n",
    "k = 1.1 # Коэффициент, показывающий превосходство по мощности\n",
    "\n",
    "z_obs = (mu_x - k*mu_y)/np.sqrt(var_x/n_x + k**2*var_y/n_y)\n",
    "z_crit = stats.norm.ppf(1 - alpha/2)\n",
    "\n",
    "print(f'{z_obs:.3} попадает в ({-z_crit:.3} , {z_crit:.3}) => Нулевая гипотеза НЕ отвергается')"
   ]
  },
  {
   "cell_type": "markdown",
   "id": "f2cf81c5",
   "metadata": {},
   "source": [
    "***Гипотеза 3:***   \\\n",
    "H0: Мотоциклисты покупают свои транспортные средства в неклассических цветах чаще (уровень значимости 5%)\n",
    "\n",
    "Классическими цветами будет считать черный и белый:\\\n",
    "Для того, чтобы ответ был положительным, достаточно, чтобы для какого-нибудь $i > 0.5$ гипотеза не отвергалась\n",
    "Для проверки данное гипотезы, предположим, что выборочные дисперсии классических и неклассических цветов в генеральной совокупности равны. Проверять гипотезу будет с использованием t-теста, проведя бинаризацию цветов: 1 - неклассические, 0 - классические.Тогда\\\n",
    "H0: $\\mu = i$,\\\n",
    "H1: $\\mu \\not= i$"
   ]
  },
  {
   "cell_type": "code",
   "execution_count": 212,
   "id": "a94f236d",
   "metadata": {},
   "outputs": [
    {
     "name": "stdout",
     "output_type": "stream",
     "text": [
      "Нулевая гипотеза НЕ отвергается при i = 0.56\n"
     ]
    }
   ],
   "source": [
    "alpha = 0.05\n",
    "color = (df['Цвет'] != 'чёрный') & (df['Цвет'] != 'белый')\n",
    "color = color.astype('int64')\n",
    "for i in np.linspace(0.5, 1, 50):\n",
    "    mu = i\n",
    "    if stats.ttest_1samp(color, mu).pvalue > alpha:\n",
    "        print(f'Нулевая гипотеза НЕ отвергается при i = {round(i, 2)}')\n",
    "        break"
   ]
  }
 ],
 "metadata": {
  "kernelspec": {
   "display_name": "Python 3 (ipykernel)",
   "language": "python",
   "name": "python3"
  },
  "language_info": {
   "codemirror_mode": {
    "name": "ipython",
    "version": 3
   },
   "file_extension": ".py",
   "mimetype": "text/x-python",
   "name": "python",
   "nbconvert_exporter": "python",
   "pygments_lexer": "ipython3",
   "version": "3.11.2"
  }
 },
 "nbformat": 4,
 "nbformat_minor": 5
}
