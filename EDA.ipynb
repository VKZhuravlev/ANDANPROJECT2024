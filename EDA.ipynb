{
 "cells": [
  {
   "cell_type": "code",
   "execution_count": 1,
   "id": "824eda91",
   "metadata": {},
   "outputs": [],
   "source": [
    "import pandas as pd\n",
    "import seaborn as sns\n",
    "import numpy as np\n",
    "import warnings\n",
    "warnings.filterwarnings('ignore')"
   ]
  },
  {
   "cell_type": "code",
   "execution_count": 2,
   "id": "c14e0b79",
   "metadata": {},
   "outputs": [
    {
     "name": "stdout",
     "output_type": "stream",
     "text": [
      "Было удалено 413 строк-дубликатов\n",
      "shape = (18977, 12)\n"
     ]
    },
    {
     "data": {
      "text/html": [
       "<div>\n",
       "<style scoped>\n",
       "    .dataframe tbody tr th:only-of-type {\n",
       "        vertical-align: middle;\n",
       "    }\n",
       "\n",
       "    .dataframe tbody tr th {\n",
       "        vertical-align: top;\n",
       "    }\n",
       "\n",
       "    .dataframe thead th {\n",
       "        text-align: right;\n",
       "    }\n",
       "</style>\n",
       "<table border=\"1\" class=\"dataframe\">\n",
       "  <thead>\n",
       "    <tr style=\"text-align: right;\">\n",
       "      <th></th>\n",
       "      <th>Марка</th>\n",
       "      <th>Модель</th>\n",
       "      <th>Год</th>\n",
       "      <th>Город</th>\n",
       "      <th>Пробег(км)</th>\n",
       "      <th>Объем двигателя (см³)</th>\n",
       "      <th>Мощность двигателя (л.с.)</th>\n",
       "      <th>Цилиндров</th>\n",
       "      <th>Коробка</th>\n",
       "      <th>Привод</th>\n",
       "      <th>Цвет</th>\n",
       "      <th>Цена(руб)</th>\n",
       "    </tr>\n",
       "  </thead>\n",
       "  <tbody>\n",
       "    <tr>\n",
       "      <th>0</th>\n",
       "      <td>ABM</td>\n",
       "      <td>ABM Jazz 125</td>\n",
       "      <td>2015</td>\n",
       "      <td>Вязьма</td>\n",
       "      <td>7400</td>\n",
       "      <td>125</td>\n",
       "      <td>NaN</td>\n",
       "      <td>NaN</td>\n",
       "      <td>4 передачи</td>\n",
       "      <td>NaN</td>\n",
       "      <td>чёрный</td>\n",
       "      <td>36000</td>\n",
       "    </tr>\n",
       "    <tr>\n",
       "      <th>1</th>\n",
       "      <td>ABM</td>\n",
       "      <td>ABM ZR 200</td>\n",
       "      <td>2013</td>\n",
       "      <td>Егорьевск</td>\n",
       "      <td>15000</td>\n",
       "      <td>200</td>\n",
       "      <td>19.0</td>\n",
       "      <td>NaN</td>\n",
       "      <td>5 передач</td>\n",
       "      <td>цепь</td>\n",
       "      <td>чёрный</td>\n",
       "      <td>63000</td>\n",
       "    </tr>\n",
       "    <tr>\n",
       "      <th>2</th>\n",
       "      <td>ABM</td>\n",
       "      <td>ABM ZR 200</td>\n",
       "      <td>2014</td>\n",
       "      <td>Сиверский</td>\n",
       "      <td>1500</td>\n",
       "      <td>200</td>\n",
       "      <td>15.0</td>\n",
       "      <td>NaN</td>\n",
       "      <td>5 передач</td>\n",
       "      <td>цепь</td>\n",
       "      <td>зелёный</td>\n",
       "      <td>90000</td>\n",
       "    </tr>\n",
       "    <tr>\n",
       "      <th>3</th>\n",
       "      <td>ABM</td>\n",
       "      <td>ABM Raptor 200</td>\n",
       "      <td>2011</td>\n",
       "      <td>Альметьевск</td>\n",
       "      <td>1000</td>\n",
       "      <td>200</td>\n",
       "      <td>17.0</td>\n",
       "      <td>1 цилиндр</td>\n",
       "      <td>5 передач</td>\n",
       "      <td>цепь</td>\n",
       "      <td>чёрный</td>\n",
       "      <td>90000</td>\n",
       "    </tr>\n",
       "    <tr>\n",
       "      <th>4</th>\n",
       "      <td>ABM</td>\n",
       "      <td>ABM Alpha 110</td>\n",
       "      <td>2023</td>\n",
       "      <td>Татарская Каргала</td>\n",
       "      <td>700</td>\n",
       "      <td>110</td>\n",
       "      <td>9.0</td>\n",
       "      <td>1 цилиндр</td>\n",
       "      <td>4 передачи</td>\n",
       "      <td>цепь</td>\n",
       "      <td>чёрный</td>\n",
       "      <td>62000</td>\n",
       "    </tr>\n",
       "  </tbody>\n",
       "</table>\n",
       "</div>"
      ],
      "text/plain": [
       "  Марка          Модель   Год              Город  Пробег(км)  \\\n",
       "0   ABM    ABM Jazz 125  2015             Вязьма        7400   \n",
       "1   ABM      ABM ZR 200  2013          Егорьевск       15000   \n",
       "2   ABM      ABM ZR 200  2014          Сиверский        1500   \n",
       "3   ABM  ABM Raptor 200  2011        Альметьевск        1000   \n",
       "4   ABM   ABM Alpha 110  2023  Татарская Каргала         700   \n",
       "\n",
       "   Объем двигателя (см³)  Мощность двигателя (л.с.)  Цилиндров     Коробка  \\\n",
       "0                    125                        NaN        NaN  4 передачи   \n",
       "1                    200                       19.0        NaN   5 передач   \n",
       "2                    200                       15.0        NaN   5 передач   \n",
       "3                    200                       17.0  1 цилиндр   5 передач   \n",
       "4                    110                        9.0  1 цилиндр  4 передачи   \n",
       "\n",
       "  Привод     Цвет  Цена(руб)  \n",
       "0    NaN   чёрный      36000  \n",
       "1   цепь   чёрный      63000  \n",
       "2   цепь  зелёный      90000  \n",
       "3   цепь   чёрный      90000  \n",
       "4   цепь   чёрный      62000  "
      ]
     },
     "execution_count": 2,
     "metadata": {},
     "output_type": "execute_result"
    }
   ],
   "source": [
    "df = pd.read_csv('Motocycles')\n",
    "n_line = df.shape[0]\n",
    "df.drop_duplicates(keep = 'first', inplace = True)\n",
    "df = df.reset_index(drop = True)\n",
    "print(f\"Было удалено {n_line - df.shape[0]} строк-дубликатов\")\n",
    "print(f\"shape = {df.shape}\")\n",
    "df.head()"
   ]
  },
  {
   "cell_type": "code",
   "execution_count": 3,
   "id": "63c38e76",
   "metadata": {},
   "outputs": [
    {
     "data": {
      "text/plain": [
       "Марка                           0\n",
       "Модель                          0\n",
       "Год                             0\n",
       "Город                           0\n",
       "Пробег(км)                      0\n",
       "Объем двигателя (см³)           0\n",
       "Мощность двигателя (л.с.)    3430\n",
       "Цилиндров                    5405\n",
       "Коробка                      3475\n",
       "Привод                       3197\n",
       "Цвет                            0\n",
       "Цена(руб)                       0\n",
       "dtype: int64"
      ]
     },
     "execution_count": 3,
     "metadata": {},
     "output_type": "execute_result"
    }
   ],
   "source": [
    "df.isnull().sum()"
   ]
  },
  {
   "cell_type": "markdown",
   "id": "d136dcda",
   "metadata": {},
   "source": [
    "Пропуски есть, их количество - от ~15 до ~30% данных по столбцу."
   ]
  },
  {
   "cell_type": "code",
   "execution_count": 4,
   "id": "cc70b3dd",
   "metadata": {},
   "outputs": [
    {
     "name": "stdout",
     "output_type": "stream",
     "text": [
      "Уникальных моделей: 1831\n"
     ]
    }
   ],
   "source": [
    "print(f\"Уникальных моделей: {df['Модель'].nunique()}\")"
   ]
  },
  {
   "cell_type": "markdown",
   "id": "c958ec4d",
   "metadata": {},
   "source": [
    "Количество уникальных моделей намного ~20000, а значит они повторяются часто, что позволит нам заполнить большинство пропусков.\n",
    "\n",
    "**Заполнять пропуски буду медианой (модой) по модели**"
   ]
  },
  {
   "cell_type": "code",
   "execution_count": 5,
   "id": "1a1602c3",
   "metadata": {},
   "outputs": [],
   "source": [
    "def sep_cil1(line):\n",
    "    \"\"\"Данная функция оставляет значение количества цилиндров, удаляя форму двигателя\"\"\"\n",
    "    if type(line) != float:\n",
    "        x = line.split('/')\n",
    "        x[0] = x[0].split()\n",
    "        return(x[0][0])\n",
    "    else:\n",
    "        return(np.nan)"
   ]
  },
  {
   "cell_type": "code",
   "execution_count": 6,
   "id": "24c56ec1",
   "metadata": {},
   "outputs": [],
   "source": [
    "def sep_cil2(line):\n",
    "    \"\"\"Данная функция оставляет форму двигателя, если она указана\"\"\"\n",
    "    if type(line) != float:\n",
    "        x = line.split('/')\n",
    "        if len(x) == 2:\n",
    "            return(x[1])\n",
    "        else:\n",
    "            return(np.nan)\n",
    "    else:\n",
    "        return(np.nan)"
   ]
  },
  {
   "cell_type": "code",
   "execution_count": 7,
   "id": "8cf78f01",
   "metadata": {},
   "outputs": [],
   "source": [
    "df['Форма двигателя'] = df['Цилиндров'].apply(sep_cil2)\n",
    "df['Цилиндров'] = df['Цилиндров'].apply(sep_cil1).astype('float64')"
   ]
  },
  {
   "cell_type": "markdown",
   "id": "a633e2f2",
   "metadata": {},
   "source": [
    "Как и прописано в использованных функциях, оставим количество цилиндров в столбце 'Цилиндров'\n",
    "\n",
    "Дополнительную информацию запишем в столбец 'Форма двигателя'"
   ]
  },
  {
   "cell_type": "code",
   "execution_count": 8,
   "id": "87b6f84e",
   "metadata": {},
   "outputs": [
    {
     "data": {
      "text/html": [
       "<div>\n",
       "<style scoped>\n",
       "    .dataframe tbody tr th:only-of-type {\n",
       "        vertical-align: middle;\n",
       "    }\n",
       "\n",
       "    .dataframe tbody tr th {\n",
       "        vertical-align: top;\n",
       "    }\n",
       "\n",
       "    .dataframe thead th {\n",
       "        text-align: right;\n",
       "    }\n",
       "</style>\n",
       "<table border=\"1\" class=\"dataframe\">\n",
       "  <thead>\n",
       "    <tr style=\"text-align: right;\">\n",
       "      <th></th>\n",
       "      <th>Марка</th>\n",
       "    </tr>\n",
       "    <tr>\n",
       "      <th>Коробка</th>\n",
       "      <th></th>\n",
       "    </tr>\n",
       "  </thead>\n",
       "  <tbody>\n",
       "    <tr>\n",
       "      <th>1 передача</th>\n",
       "      <td>13</td>\n",
       "    </tr>\n",
       "    <tr>\n",
       "      <th>2 передачи</th>\n",
       "      <td>12</td>\n",
       "    </tr>\n",
       "    <tr>\n",
       "      <th>2-скоростной автомат</th>\n",
       "      <td>3</td>\n",
       "    </tr>\n",
       "    <tr>\n",
       "      <th>3 передачи</th>\n",
       "      <td>33</td>\n",
       "    </tr>\n",
       "    <tr>\n",
       "      <th>3-скоростной автомат</th>\n",
       "      <td>6</td>\n",
       "    </tr>\n",
       "    <tr>\n",
       "      <th>4 передачи</th>\n",
       "      <td>1249</td>\n",
       "    </tr>\n",
       "    <tr>\n",
       "      <th>4 прямых и задняя</th>\n",
       "      <td>62</td>\n",
       "    </tr>\n",
       "    <tr>\n",
       "      <th>5 передач</th>\n",
       "      <td>4456</td>\n",
       "    </tr>\n",
       "    <tr>\n",
       "      <th>5 прямых и задняя</th>\n",
       "      <td>79</td>\n",
       "    </tr>\n",
       "    <tr>\n",
       "      <th>6 передач</th>\n",
       "      <td>9069</td>\n",
       "    </tr>\n",
       "    <tr>\n",
       "      <th>6 прямых и задняя</th>\n",
       "      <td>81</td>\n",
       "    </tr>\n",
       "    <tr>\n",
       "      <th>7 передач</th>\n",
       "      <td>11</td>\n",
       "    </tr>\n",
       "    <tr>\n",
       "      <th>8 передач</th>\n",
       "      <td>9</td>\n",
       "    </tr>\n",
       "    <tr>\n",
       "      <th>АКПП</th>\n",
       "      <td>225</td>\n",
       "    </tr>\n",
       "    <tr>\n",
       "      <th>Вариатор</th>\n",
       "      <td>67</td>\n",
       "    </tr>\n",
       "    <tr>\n",
       "      <th>Роботизированная</th>\n",
       "      <td>49</td>\n",
       "    </tr>\n",
       "    <tr>\n",
       "      <th>Роботизированная с двумя сцеплениями</th>\n",
       "      <td>78</td>\n",
       "    </tr>\n",
       "  </tbody>\n",
       "</table>\n",
       "</div>"
      ],
      "text/plain": [
       "                                      Марка\n",
       "Коробка                                    \n",
       "1 передача                               13\n",
       "2 передачи                               12\n",
       "2-скоростной автомат                      3\n",
       "3 передачи                               33\n",
       "3-скоростной автомат                      6\n",
       "4 передачи                             1249\n",
       "4 прямых и задняя                        62\n",
       "5 передач                              4456\n",
       "5 прямых и задняя                        79\n",
       "6 передач                              9069\n",
       "6 прямых и задняя                        81\n",
       "7 передач                                11\n",
       "8 передач                                 9\n",
       "АКПП                                    225\n",
       "Вариатор                                 67\n",
       "Роботизированная                         49\n",
       "Роботизированная с двумя сцеплениями     78"
      ]
     },
     "execution_count": 8,
     "metadata": {},
     "output_type": "execute_result"
    }
   ],
   "source": [
    "df.groupby('Коробка')[['Марка']].count()"
   ]
  },
  {
   "cell_type": "markdown",
   "id": "a76a591a",
   "metadata": {},
   "source": [
    "Посмотрим на значения коробки передач. Легко разделить на 4 группы - МКПП, АКПП, Вариатор, Робот. Но заметим, что у МКПП очень варьируются значения количества передач, поэтому при i передач, будем присваивать название МКПП-i"
   ]
  },
  {
   "cell_type": "code",
   "execution_count": 9,
   "id": "aa139394",
   "metadata": {},
   "outputs": [],
   "source": [
    "def Box_coder(line):\n",
    "    \"\"\"Приводит данные о коробке передач к более общему виду\"\"\"\n",
    "    if type(line) != float:\n",
    "        if 'автомат' in line or 'АКПП' in line:\n",
    "            return('АКПП')\n",
    "        elif line[0].isnumeric():\n",
    "            return(f\"МКПП-{line.split()[0]}\")\n",
    "        elif 'Робот' in line:\n",
    "            return('Робот')\n",
    "        else:\n",
    "            return('Вариатор')\n",
    "            \n",
    "    else:\n",
    "        return(np.nan)"
   ]
  },
  {
   "cell_type": "code",
   "execution_count": 10,
   "id": "813a0135",
   "metadata": {},
   "outputs": [],
   "source": [
    "df['Коробка'] = df['Коробка'].apply(Box_coder)"
   ]
  },
  {
   "cell_type": "code",
   "execution_count": 11,
   "id": "553b2c75",
   "metadata": {},
   "outputs": [
    {
     "data": {
      "text/html": [
       "<div>\n",
       "<style scoped>\n",
       "    .dataframe tbody tr th:only-of-type {\n",
       "        vertical-align: middle;\n",
       "    }\n",
       "\n",
       "    .dataframe tbody tr th {\n",
       "        vertical-align: top;\n",
       "    }\n",
       "\n",
       "    .dataframe thead th {\n",
       "        text-align: right;\n",
       "    }\n",
       "</style>\n",
       "<table border=\"1\" class=\"dataframe\">\n",
       "  <thead>\n",
       "    <tr style=\"text-align: right;\">\n",
       "      <th></th>\n",
       "      <th>Мощность двигателя (л.с.)</th>\n",
       "      <th>Цилиндров</th>\n",
       "      <th>Коробка</th>\n",
       "      <th>Привод</th>\n",
       "      <th>Форма двигателя</th>\n",
       "    </tr>\n",
       "    <tr>\n",
       "      <th>Модель</th>\n",
       "      <th></th>\n",
       "      <th></th>\n",
       "      <th></th>\n",
       "      <th></th>\n",
       "      <th></th>\n",
       "    </tr>\n",
       "  </thead>\n",
       "  <tbody>\n",
       "    <tr>\n",
       "      <th>ABM Alpha 110</th>\n",
       "      <td>8.0</td>\n",
       "      <td>1.0</td>\n",
       "      <td>МКПП-4</td>\n",
       "      <td>цепь</td>\n",
       "      <td>рядное</td>\n",
       "    </tr>\n",
       "    <tr>\n",
       "      <th>ABM Alpha 50</th>\n",
       "      <td>7.0</td>\n",
       "      <td>[1.0, 2.0]</td>\n",
       "      <td>[МКПП-1, МКПП-4]</td>\n",
       "      <td>цепь</td>\n",
       "      <td>рядное</td>\n",
       "    </tr>\n",
       "    <tr>\n",
       "      <th>ABM Cross</th>\n",
       "      <td>7.0</td>\n",
       "      <td>1.0</td>\n",
       "      <td>МКПП-2</td>\n",
       "      <td>кардан</td>\n",
       "      <td>[]</td>\n",
       "    </tr>\n",
       "    <tr>\n",
       "      <th>ABM GX 250</th>\n",
       "      <td>21.0</td>\n",
       "      <td>1.0</td>\n",
       "      <td>МКПП-5</td>\n",
       "      <td>цепь</td>\n",
       "      <td>v-образное</td>\n",
       "    </tr>\n",
       "    <tr>\n",
       "      <th>ABM Jazz 125</th>\n",
       "      <td>11.0</td>\n",
       "      <td>1.0</td>\n",
       "      <td>[МКПП-4, МКПП-5]</td>\n",
       "      <td>цепь</td>\n",
       "      <td>рядное</td>\n",
       "    </tr>\n",
       "  </tbody>\n",
       "</table>\n",
       "</div>"
      ],
      "text/plain": [
       "               Мощность двигателя (л.с.)   Цилиндров           Коробка  \\\n",
       "Модель                                                                   \n",
       "ABM Alpha 110                        8.0         1.0            МКПП-4   \n",
       "ABM Alpha 50                         7.0  [1.0, 2.0]  [МКПП-1, МКПП-4]   \n",
       "ABM Cross                            7.0         1.0            МКПП-2   \n",
       "ABM GX 250                          21.0         1.0            МКПП-5   \n",
       "ABM Jazz 125                        11.0         1.0  [МКПП-4, МКПП-5]   \n",
       "\n",
       "               Привод Форма двигателя  \n",
       "Модель                                 \n",
       "ABM Alpha 110    цепь          рядное  \n",
       "ABM Alpha 50     цепь          рядное  \n",
       "ABM Cross      кардан              []  \n",
       "ABM GX 250       цепь      v-образное  \n",
       "ABM Jazz 125     цепь          рядное  "
      ]
     },
     "execution_count": 11,
     "metadata": {},
     "output_type": "execute_result"
    }
   ],
   "source": [
    "gb1 = df.groupby('Модель')[['Мощность двигателя (л.с.)']].median()\n",
    "gb2 = df.groupby('Модель')[['Цилиндров', 'Коробка', 'Привод', 'Форма двигателя']].agg(pd.Series.mode)\n",
    "gb = pd.concat((gb1, gb2), axis = 1)\n",
    "gb.head()\n",
    "# Создаем отдельную таблицу со сгруппированными по модели данными\n",
    "# Для категориальных столбцов применяем моду, для числовых - медиану"
   ]
  },
  {
   "cell_type": "code",
   "execution_count": 12,
   "id": "9ffef570",
   "metadata": {},
   "outputs": [
    {
     "data": {
      "text/plain": [
       "Мощность двигателя (л.с.)    94\n",
       "Цилиндров                     0\n",
       "Коробка                       0\n",
       "Привод                        0\n",
       "Форма двигателя               0\n",
       "dtype: int64"
      ]
     },
     "execution_count": 12,
     "metadata": {},
     "output_type": "execute_result"
    }
   ],
   "source": [
    "gb.isnull().sum()"
   ]
  },
  {
   "cell_type": "code",
   "execution_count": 13,
   "id": "59d340c7",
   "metadata": {},
   "outputs": [],
   "source": [
    "gb = gb.dropna()"
   ]
  },
  {
   "cell_type": "markdown",
   "id": "117e2d31",
   "metadata": {},
   "source": [
    "Пропуски есть только в столбцах, которые были заполнены медианным значением по марке =>\n",
    "\n",
    "Скорее всего там находятся модели, в которых полностью отсутствует информация о мощности двигателя => выбросим эти марки"
   ]
  },
  {
   "cell_type": "code",
   "execution_count": 14,
   "id": "4d20dd8c",
   "metadata": {},
   "outputs": [],
   "source": [
    "def NoList1(line):\n",
    "    if type(line) != np.float64:\n",
    "        if len(line) == 0:\n",
    "            return(np.nan)\n",
    "        else:\n",
    "            a = [2, 1, 4]\n",
    "            for item in a:\n",
    "                if item in list(line):\n",
    "                    return(item)\n",
    "                    break\n",
    "            return(line[0])\n",
    "    return(line)"
   ]
  },
  {
   "cell_type": "code",
   "execution_count": 15,
   "id": "74123326",
   "metadata": {},
   "outputs": [],
   "source": [
    "def NoList2(line):\n",
    "    if type(line) != str:\n",
    "        if len(line) == 0:\n",
    "            return(np.nan)\n",
    "        else:\n",
    "            a = ['МКПП-6', 'МКПП-5', 'МКПП-4']\n",
    "            for item in a:\n",
    "                if item in list(line):\n",
    "                    return(item)\n",
    "                    break\n",
    "            return(line[0])\n",
    "    return(line)"
   ]
  },
  {
   "cell_type": "code",
   "execution_count": 16,
   "id": "8a78c193",
   "metadata": {},
   "outputs": [],
   "source": [
    "def NoList3(line):\n",
    "    if type(line) != str:\n",
    "        if len(line) == 0:\n",
    "            return(np.nan)\n",
    "        else:\n",
    "            a = ['цепь, кардан']\n",
    "            for item in a:\n",
    "                if item in list(line):\n",
    "                    return(item)\n",
    "                    break\n",
    "            return(line[0])\n",
    "    return(line)"
   ]
  },
  {
   "cell_type": "code",
   "execution_count": 17,
   "id": "8dcfb416",
   "metadata": {},
   "outputs": [],
   "source": [
    "def NoList4(line):\n",
    "    if type(line) != str:\n",
    "        if len(line) == 0:\n",
    "            return(np.nan)\n",
    "        else:\n",
    "            a = ['рядное', 'v-образное', 'оппозитное']\n",
    "            for item in a:\n",
    "                if item in list(line):\n",
    "                    return(item)\n",
    "                    break\n",
    "            return(line[0])\n",
    "    return(line)"
   ]
  },
  {
   "cell_type": "code",
   "execution_count": 18,
   "id": "8c44024a",
   "metadata": {},
   "outputs": [],
   "source": [
    "gb['Цилиндров'] = gb['Цилиндров'].apply(NoList1)\n",
    "gb['Коробка'] = gb['Коробка'].apply(NoList2)\n",
    "gb['Привод'] = gb['Привод'].apply(NoList3)\n",
    "gb['Форма двигателя'] = gb['Форма двигателя'].apply(NoList4)"
   ]
  },
  {
   "cell_type": "code",
   "execution_count": 19,
   "id": "69becaae",
   "metadata": {},
   "outputs": [
    {
     "data": {
      "text/plain": [
       "Мощность двигателя (л.с.)      0\n",
       "Цилиндров                     76\n",
       "Коробка                       66\n",
       "Привод                        59\n",
       "Форма двигателя              325\n",
       "dtype: int64"
      ]
     },
     "execution_count": 19,
     "metadata": {},
     "output_type": "execute_result"
    }
   ],
   "source": [
    "gb.isnull().sum()"
   ]
  },
  {
   "cell_type": "code",
   "execution_count": 20,
   "id": "de46110e",
   "metadata": {},
   "outputs": [],
   "source": [
    "gb = gb.dropna()"
   ]
  },
  {
   "cell_type": "code",
   "execution_count": 21,
   "id": "02b5c6b8",
   "metadata": {
    "scrolled": true
   },
   "outputs": [],
   "source": [
    "drop_ind = []\n",
    "models = list(gb.index)\n",
    "for i in range(len(df)):\n",
    "    if df.iloc[i]['Модель'] not in models:\n",
    "        drop_ind.append(i)\n",
    "df = df.drop(drop_ind)\n",
    "df = df.reset_index(drop = True)"
   ]
  },
  {
   "cell_type": "code",
   "execution_count": 22,
   "id": "ef33294e",
   "metadata": {
    "scrolled": true
   },
   "outputs": [],
   "source": [
    "for i in range(len(df)):\n",
    "    for col in gb.columns:\n",
    "        if df[col].loc[i] != df[col].loc[i]:\n",
    "            df[col].loc[i] = gb[gb.index == df['Модель'].loc[i]][col][0]"
   ]
  },
  {
   "cell_type": "code",
   "execution_count": 23,
   "id": "6154e52c",
   "metadata": {
    "scrolled": true
   },
   "outputs": [
    {
     "data": {
      "text/html": [
       "<div>\n",
       "<style scoped>\n",
       "    .dataframe tbody tr th:only-of-type {\n",
       "        vertical-align: middle;\n",
       "    }\n",
       "\n",
       "    .dataframe tbody tr th {\n",
       "        vertical-align: top;\n",
       "    }\n",
       "\n",
       "    .dataframe thead th {\n",
       "        text-align: right;\n",
       "    }\n",
       "</style>\n",
       "<table border=\"1\" class=\"dataframe\">\n",
       "  <thead>\n",
       "    <tr style=\"text-align: right;\">\n",
       "      <th></th>\n",
       "      <th>Марка</th>\n",
       "      <th>Модель</th>\n",
       "      <th>Год</th>\n",
       "      <th>Город</th>\n",
       "      <th>Пробег(км)</th>\n",
       "      <th>Объем двигателя (см³)</th>\n",
       "      <th>Мощность двигателя (л.с.)</th>\n",
       "      <th>Цилиндров</th>\n",
       "      <th>Коробка</th>\n",
       "      <th>Привод</th>\n",
       "      <th>Цвет</th>\n",
       "      <th>Цена(руб)</th>\n",
       "      <th>Форма двигателя</th>\n",
       "    </tr>\n",
       "  </thead>\n",
       "  <tbody>\n",
       "    <tr>\n",
       "      <th>0</th>\n",
       "      <td>ABM</td>\n",
       "      <td>ABM Jazz 125</td>\n",
       "      <td>2015</td>\n",
       "      <td>Вязьма</td>\n",
       "      <td>7400</td>\n",
       "      <td>125</td>\n",
       "      <td>11.0</td>\n",
       "      <td>1.0</td>\n",
       "      <td>МКПП-4</td>\n",
       "      <td>цепь</td>\n",
       "      <td>чёрный</td>\n",
       "      <td>36000</td>\n",
       "      <td>рядное</td>\n",
       "    </tr>\n",
       "    <tr>\n",
       "      <th>1</th>\n",
       "      <td>ABM</td>\n",
       "      <td>ABM ZR 200</td>\n",
       "      <td>2013</td>\n",
       "      <td>Егорьевск</td>\n",
       "      <td>15000</td>\n",
       "      <td>200</td>\n",
       "      <td>19.0</td>\n",
       "      <td>1.0</td>\n",
       "      <td>МКПП-5</td>\n",
       "      <td>цепь</td>\n",
       "      <td>чёрный</td>\n",
       "      <td>63000</td>\n",
       "      <td>v-образное</td>\n",
       "    </tr>\n",
       "    <tr>\n",
       "      <th>2</th>\n",
       "      <td>ABM</td>\n",
       "      <td>ABM ZR 200</td>\n",
       "      <td>2014</td>\n",
       "      <td>Сиверский</td>\n",
       "      <td>1500</td>\n",
       "      <td>200</td>\n",
       "      <td>15.0</td>\n",
       "      <td>1.0</td>\n",
       "      <td>МКПП-5</td>\n",
       "      <td>цепь</td>\n",
       "      <td>зелёный</td>\n",
       "      <td>90000</td>\n",
       "      <td>v-образное</td>\n",
       "    </tr>\n",
       "    <tr>\n",
       "      <th>3</th>\n",
       "      <td>ABM</td>\n",
       "      <td>ABM Alpha 110</td>\n",
       "      <td>2023</td>\n",
       "      <td>Татарская Каргала</td>\n",
       "      <td>700</td>\n",
       "      <td>110</td>\n",
       "      <td>9.0</td>\n",
       "      <td>1.0</td>\n",
       "      <td>МКПП-4</td>\n",
       "      <td>цепь</td>\n",
       "      <td>чёрный</td>\n",
       "      <td>62000</td>\n",
       "      <td>рядное</td>\n",
       "    </tr>\n",
       "    <tr>\n",
       "      <th>4</th>\n",
       "      <td>ABM</td>\n",
       "      <td>ABM Alpha 110</td>\n",
       "      <td>2023</td>\n",
       "      <td>Фрязино</td>\n",
       "      <td>500</td>\n",
       "      <td>110</td>\n",
       "      <td>7.0</td>\n",
       "      <td>1.0</td>\n",
       "      <td>МКПП-4</td>\n",
       "      <td>цепь</td>\n",
       "      <td>чёрный</td>\n",
       "      <td>75000</td>\n",
       "      <td>рядное</td>\n",
       "    </tr>\n",
       "  </tbody>\n",
       "</table>\n",
       "</div>"
      ],
      "text/plain": [
       "  Марка         Модель   Год              Город  Пробег(км)  \\\n",
       "0   ABM   ABM Jazz 125  2015             Вязьма        7400   \n",
       "1   ABM     ABM ZR 200  2013          Егорьевск       15000   \n",
       "2   ABM     ABM ZR 200  2014          Сиверский        1500   \n",
       "3   ABM  ABM Alpha 110  2023  Татарская Каргала         700   \n",
       "4   ABM  ABM Alpha 110  2023            Фрязино         500   \n",
       "\n",
       "   Объем двигателя (см³)  Мощность двигателя (л.с.)  Цилиндров Коробка Привод  \\\n",
       "0                    125                       11.0        1.0  МКПП-4   цепь   \n",
       "1                    200                       19.0        1.0  МКПП-5   цепь   \n",
       "2                    200                       15.0        1.0  МКПП-5   цепь   \n",
       "3                    110                        9.0        1.0  МКПП-4   цепь   \n",
       "4                    110                        7.0        1.0  МКПП-4   цепь   \n",
       "\n",
       "      Цвет  Цена(руб) Форма двигателя  \n",
       "0   чёрный      36000          рядное  \n",
       "1   чёрный      63000      v-образное  \n",
       "2  зелёный      90000      v-образное  \n",
       "3   чёрный      62000          рядное  \n",
       "4   чёрный      75000          рядное  "
      ]
     },
     "execution_count": 23,
     "metadata": {},
     "output_type": "execute_result"
    }
   ],
   "source": [
    "df.head()"
   ]
  },
  {
   "cell_type": "code",
   "execution_count": 24,
   "id": "19af42da",
   "metadata": {},
   "outputs": [
    {
     "data": {
      "text/plain": [
       "Марка                        0\n",
       "Модель                       0\n",
       "Год                          0\n",
       "Город                        0\n",
       "Пробег(км)                   0\n",
       "Объем двигателя (см³)        0\n",
       "Мощность двигателя (л.с.)    0\n",
       "Цилиндров                    0\n",
       "Коробка                      0\n",
       "Привод                       0\n",
       "Цвет                         0\n",
       "Цена(руб)                    0\n",
       "Форма двигателя              0\n",
       "dtype: int64"
      ]
     },
     "execution_count": 24,
     "metadata": {},
     "output_type": "execute_result"
    }
   ],
   "source": [
    "df.isnull().sum()"
   ]
  },
  {
   "cell_type": "code",
   "execution_count": 27,
   "id": "7ad6b0b1",
   "metadata": {},
   "outputs": [],
   "source": [
    "df.to_csv('Data', mode = 'w')"
   ]
  }
 ],
 "metadata": {
  "kernelspec": {
   "display_name": "Python 3 (ipykernel)",
   "language": "python",
   "name": "python3"
  },
  "language_info": {
   "codemirror_mode": {
    "name": "ipython",
    "version": 3
   },
   "file_extension": ".py",
   "mimetype": "text/x-python",
   "name": "python",
   "nbconvert_exporter": "python",
   "pygments_lexer": "ipython3",
   "version": "3.11.2"
  }
 },
 "nbformat": 4,
 "nbformat_minor": 5
}
