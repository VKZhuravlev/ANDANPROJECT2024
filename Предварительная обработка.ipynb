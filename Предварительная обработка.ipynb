{
 "cells": [
  {
   "cell_type": "code",
   "execution_count": 1,
   "id": "aea7f75f",
   "metadata": {},
   "outputs": [],
   "source": [
    "import pandas as pd"
   ]
  },
  {
   "cell_type": "code",
   "execution_count": 2,
   "id": "963e2813",
   "metadata": {},
   "outputs": [],
   "source": [
    "def fixer(line):\n",
    "    to_replace = ['\\n', '\"', '₽']\n",
    "    for item in to_replace:\n",
    "        line = line.replace(item, '')\n",
    "    line = line.split(',')\n",
    "    for i in range(1, 7):\n",
    "        if i in [2, 3]:\n",
    "            line[i] = line[i].replace(' ', '')\n",
    "        else:\n",
    "            line[i] = line[i].strip()\n",
    "    line[3] = line[3].split(\"\\xa0\")[0]\n",
    "    if len(line) == 8:\n",
    "        return(line)\n",
    "    \n",
    "# Данная функция приводит данные из парсинга в нормальный вид"
   ]
  },
  {
   "cell_type": "code",
   "execution_count": 3,
   "id": "81eb61e1",
   "metadata": {},
   "outputs": [
    {
     "name": "stdout",
     "output_type": "stream",
     "text": [
      "Потеряно 5.96% исходных данных\n"
     ]
    }
   ],
   "source": [
    "bad_data = []\n",
    "data = []\n",
    "with open('data_new.csv', 'r', encoding = 'UTF-8') as infile:\n",
    "    file = infile.readlines()\n",
    "    for line in file:\n",
    "        try:\n",
    "            ans = fixer(line)\n",
    "            if ans != None:\n",
    "                data.append(fixer(line))\n",
    "            else:\n",
    "                bad_data.append(line)\n",
    "        except:\n",
    "            bad_data.append(line)\n",
    "print(f\"Потеряно {round(len(bad_data)/len(data)*100, 2)}% исходных данных\")"
   ]
  },
  {
   "cell_type": "code",
   "execution_count": 4,
   "id": "45f3e48f",
   "metadata": {
    "scrolled": false
   },
   "outputs": [],
   "source": [
    "col = ['Модель', 'Год выпуска', 'Цена', 'Объем двигателя (куб.см.)', 'Состояние', 'Наличие ПТС', 'Наличие пробега', 'Город']\n",
    "data = pd.DataFrame(data, columns = col)"
   ]
  },
  {
   "cell_type": "code",
   "execution_count": 5,
   "id": "04c0abde",
   "metadata": {},
   "outputs": [
    {
     "data": {
      "text/html": [
       "<div>\n",
       "<style scoped>\n",
       "    .dataframe tbody tr th:only-of-type {\n",
       "        vertical-align: middle;\n",
       "    }\n",
       "\n",
       "    .dataframe tbody tr th {\n",
       "        vertical-align: top;\n",
       "    }\n",
       "\n",
       "    .dataframe thead th {\n",
       "        text-align: right;\n",
       "    }\n",
       "</style>\n",
       "<table border=\"1\" class=\"dataframe\">\n",
       "  <thead>\n",
       "    <tr style=\"text-align: right;\">\n",
       "      <th></th>\n",
       "      <th>Модель</th>\n",
       "      <th>Год выпуска</th>\n",
       "      <th>Цена</th>\n",
       "      <th>Объем двигателя (куб.см.)</th>\n",
       "      <th>Город</th>\n",
       "      <th>ПТС</th>\n",
       "      <th>Наличие пробега</th>\n",
       "      <th>Неисправность</th>\n",
       "    </tr>\n",
       "  </thead>\n",
       "  <tbody>\n",
       "    <tr>\n",
       "      <th>0</th>\n",
       "      <td>BMW K 1600 GT</td>\n",
       "      <td>2014</td>\n",
       "      <td>1365000</td>\n",
       "      <td>1600</td>\n",
       "      <td>Владивосток</td>\n",
       "      <td>1</td>\n",
       "      <td>0</td>\n",
       "      <td>0</td>\n",
       "    </tr>\n",
       "    <tr>\n",
       "      <th>1</th>\n",
       "      <td>Big Dog</td>\n",
       "      <td>2007</td>\n",
       "      <td>1550000</td>\n",
       "      <td>2293</td>\n",
       "      <td>Владивосток</td>\n",
       "      <td>1</td>\n",
       "      <td>0</td>\n",
       "      <td>0</td>\n",
       "    </tr>\n",
       "    <tr>\n",
       "      <th>2</th>\n",
       "      <td>Kawasaki Z 1000</td>\n",
       "      <td>2008</td>\n",
       "      <td>600000</td>\n",
       "      <td>1000</td>\n",
       "      <td>Владивосток</td>\n",
       "      <td>1</td>\n",
       "      <td>1</td>\n",
       "      <td>0</td>\n",
       "    </tr>\n",
       "    <tr>\n",
       "      <th>3</th>\n",
       "      <td>Motoland TT250</td>\n",
       "      <td>2024</td>\n",
       "      <td>176000</td>\n",
       "      <td>250</td>\n",
       "      <td>Владивосток</td>\n",
       "      <td>0</td>\n",
       "      <td>0</td>\n",
       "      <td>0</td>\n",
       "    </tr>\n",
       "    <tr>\n",
       "      <th>4</th>\n",
       "      <td>Zuumav K7 300</td>\n",
       "      <td>2024</td>\n",
       "      <td>310000</td>\n",
       "      <td>300</td>\n",
       "      <td>Владивосток</td>\n",
       "      <td>0</td>\n",
       "      <td>0</td>\n",
       "      <td>0</td>\n",
       "    </tr>\n",
       "  </tbody>\n",
       "</table>\n",
       "</div>"
      ],
      "text/plain": [
       "            Модель  Год выпуска     Цена  Объем двигателя (куб.см.)  \\\n",
       "0    BMW K 1600 GT         2014  1365000                       1600   \n",
       "1          Big Dog         2007  1550000                       2293   \n",
       "2  Kawasaki Z 1000         2008   600000                       1000   \n",
       "3   Motoland TT250         2024   176000                        250   \n",
       "4    Zuumav K7 300         2024   310000                        300   \n",
       "\n",
       "         Город  ПТС  Наличие пробега  Неисправность  \n",
       "0  Владивосток    1                0              0  \n",
       "1  Владивосток    1                0              0  \n",
       "2  Владивосток    1                1              0  \n",
       "3  Владивосток    0                0              0  \n",
       "4  Владивосток    0                0              0  "
      ]
     },
     "execution_count": 5,
     "metadata": {},
     "output_type": "execute_result"
    }
   ],
   "source": [
    "data[['Цена', 'Объем двигателя (куб.см.)']] = data[['Цена', 'Объем двигателя (куб.см.)']].astype(int)\n",
    "data = pd.get_dummies(data, columns = ['Наличие ПТС', 'Наличие пробега', 'Состояние'], dtype = 'int', drop_first = True)\n",
    "data[['Год выпуска', 'Цена', 'Объем двигателя (куб.см.)']] = data[['Год выпуска', 'Цена', 'Объем двигателя (куб.см.)']].astype(int)\n",
    "dct = {'Наличие ПТС_птс':'ПТС','Наличие пробега_с пробегом':'Наличие пробега', 'Состояние_неисправен':'Неисправность'}\n",
    "data.rename(columns = dct, inplace = True )\n",
    "data.head()\n",
    "# Переводим числовые переменные к типу int, избавимся от бинарных категориальных переменных с помощью get_dummies"
   ]
  }
 ],
 "metadata": {
  "kernelspec": {
   "display_name": "Python 3 (ipykernel)",
   "language": "python",
   "name": "python3"
  },
  "language_info": {
   "codemirror_mode": {
    "name": "ipython",
    "version": 3
   },
   "file_extension": ".py",
   "mimetype": "text/x-python",
   "name": "python",
   "nbconvert_exporter": "python",
   "pygments_lexer": "ipython3",
   "version": "3.11.2"
  }
 },
 "nbformat": 4,
 "nbformat_minor": 5
}
